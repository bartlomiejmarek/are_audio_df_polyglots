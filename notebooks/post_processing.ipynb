{
 "cells": [
  {
   "cell_type": "markdown",
   "id": "19e93a88fe850787",
   "metadata": {},
   "source": [
    "# Post-processing"
   ]
  },
  {
   "cell_type": "code",
   "execution_count": 1,
   "id": "initial_id",
   "metadata": {
    "ExecuteTime": {
     "end_time": "2024-08-25T19:46:15.586939Z",
     "start_time": "2024-08-25T19:46:15.584008Z"
    },
    "collapsed": true
   },
   "outputs": [],
   "source": [
    "from os import listdir\n",
    "\n",
    "import pandas as pd\n",
    "import matplotlib.pyplot as plt\n",
    "import seaborn as sns\n",
    "from ast import literal_eval\n",
    "import numpy as np\n",
    "from pathlib import Path"
   ]
  },
  {
   "cell_type": "code",
   "execution_count": 2,
   "id": "f7187ad469b496b2",
   "metadata": {
    "ExecuteTime": {
     "end_time": "2024-08-25T19:46:15.607283Z",
     "start_time": "2024-08-25T19:46:15.591712Z"
    }
   },
   "outputs": [],
   "source": [
    "baseline_df = pd.DataFrame()\n",
    "for file_path in Path(\"../results\").rglob('baseline_evaluation_results.csv'):\n",
    "    baseline_df = pd.concat([baseline_df, pd.read_csv(file_path).drop_duplicates()])\n",
    "\n",
    "ft_df = pd.DataFrame()\n",
    "for file_path in Path(\"../results\").rglob('evaluation_results.csv'):\n",
    "    ft_df = pd.concat([ft_df, pd.read_csv(file_path).drop_duplicates()])"
   ]
  },
  {
   "cell_type": "code",
   "execution_count": null,
   "id": "c38e636592dd3bcc",
   "metadata": {
    "ExecuteTime": {
     "end_time": "2024-08-25T19:46:15.654535Z",
     "start_time": "2024-08-25T19:46:15.644338Z"
    }
   },
   "outputs": [],
   "source": [
    "baseline_df.head()"
   ]
  },
  {
   "cell_type": "code",
   "execution_count": null,
   "id": "75d3555d6c36d9c4",
   "metadata": {
    "ExecuteTime": {
     "end_time": "2024-08-25T19:46:15.978798Z",
     "start_time": "2024-08-25T19:46:15.973912Z"
    }
   },
   "outputs": [],
   "source": [
    "ft_df.head()"
   ]
  },
  {
   "cell_type": "code",
   "execution_count": 5,
   "id": "65dfde2c0dbc765a",
   "metadata": {
    "ExecuteTime": {
     "end_time": "2024-08-25T19:46:16.059740Z",
     "start_time": "2024-08-25T19:46:16.047330Z"
    }
   },
   "outputs": [],
   "source": [
    "ft_df['fine-tuned languages'] = ft_df['fine-tuned languages'].apply(literal_eval).apply(lambda x: \" \".join(x))\n",
    "baseline_df['evaluated languages'] = baseline_df['evaluated languages'].apply(literal_eval).apply(lambda x: \" \".join(x))\n",
    "ft_df['evaluated languages'] = ft_df['evaluated languages'].apply(literal_eval).apply(lambda x: \" \".join(x))\n",
    "baseline_df['fine-tuned languages'] = '-'"
   ]
  },
  {
   "cell_type": "code",
   "execution_count": 6,
   "id": "87fde9729162405e",
   "metadata": {
    "ExecuteTime": {
     "end_time": "2024-08-25T19:46:16.071050Z",
     "start_time": "2024-08-25T19:46:16.068686Z"
    }
   },
   "outputs": [],
   "source": [
    "ft_df['model_id'] = ft_df['model'] + \" ft with \" + ft_df['fine-tuned languages']\n",
    "baseline_df['model_id'] = \"ASV trained \" + baseline_df['model']"
   ]
  },
  {
   "cell_type": "code",
   "execution_count": null,
   "id": "6e5e4dfca7aa95d0",
   "metadata": {
    "ExecuteTime": {
     "end_time": "2024-08-25T19:46:16.091337Z",
     "start_time": "2024-08-25T19:46:16.088851Z"
    }
   },
   "outputs": [],
   "source": [
    "ft_df['model_id'].unique()"
   ]
  },
  {
   "cell_type": "code",
   "execution_count": null,
   "id": "8af8ed19b8085718",
   "metadata": {
    "ExecuteTime": {
     "end_time": "2024-08-25T19:46:16.117452Z",
     "start_time": "2024-08-25T19:46:16.108866Z"
    }
   },
   "outputs": [],
   "source": [
    "baseline_df = baseline_df.groupby(['model', 'model_id', 'fine-tuned languages', 'evaluated languages'])[baseline_df.select_dtypes(include=[np.number]).columns].mean()\n",
    "ft_df = ft_df.groupby(['model', 'model_id', 'fine-tuned languages', 'evaluated languages'])[ft_df.select_dtypes(include=[np.number]).columns].mean()\n",
    "ft_df.head()"
   ]
  },
  {
   "cell_type": "code",
   "execution_count": null,
   "id": "c3d5fa8e27229e9c",
   "metadata": {
    "ExecuteTime": {
     "end_time": "2024-08-25T19:46:16.206910Z",
     "start_time": "2024-08-25T19:46:16.198292Z"
    }
   },
   "outputs": [],
   "source": [
    "baseline_df.head()"
   ]
  },
  {
   "cell_type": "code",
   "execution_count": null,
   "id": "d806af98048254b1",
   "metadata": {
    "ExecuteTime": {
     "end_time": "2024-08-25T19:46:16.294859Z",
     "start_time": "2024-08-25T19:46:16.286301Z"
    }
   },
   "outputs": [],
   "source": [
    "df = pd.concat([baseline_df, ft_df])\n",
    "df"
   ]
  },
  {
   "cell_type": "code",
   "execution_count": 11,
   "id": "c429af3b5b6fb5e2",
   "metadata": {
    "ExecuteTime": {
     "end_time": "2024-08-25T19:46:16.376413Z",
     "start_time": "2024-08-25T19:46:16.373095Z"
    }
   },
   "outputs": [],
   "source": [
    "df = df.apply(lambda x: x).reset_index()"
   ]
  },
  {
   "cell_type": "code",
   "execution_count": null,
   "id": "51ce35d8c13f6fa",
   "metadata": {
    "ExecuteTime": {
     "end_time": "2024-08-25T19:46:16.397445Z",
     "start_time": "2024-08-25T19:46:16.387941Z"
    }
   },
   "outputs": [],
   "source": [
    "df.pivot(index=['model_id'], columns='evaluated languages', values=['eer'])"
   ]
  },
  {
   "cell_type": "code",
   "execution_count": null,
   "id": "1f984f07ac613a15",
   "metadata": {},
   "outputs": [],
   "source": [
    "def create_heatmap(dataframe, model_name, metric='eer', metric_label=\"EER\"):\n",
    "    heatmap_data = dataframe.loc[dataframe['model'] == model_name].pivot(index='fine-tuned languages', columns='evaluated languages', values=metric)\n",
    "    plt.figure(figsize=(10, 8))\n",
    "    ax = sns.heatmap(\n",
    "        heatmap_data,\n",
    "        annot=True,\n",
    "        cmap=\"Blues\",\n",
    "        cbar_kws={'label': metric_label},\n",
    "        annot_kws={\"size\": 16},\n",
    "        fmt='.2f'\n",
    "    )\n",
    "    plt.xlabel('Evaluated with', fontsize=16)\n",
    "    plt.ylabel('Fine-Tuned With', fontsize=16)\n",
    "    plt.xticks(fontsize=14)\n",
    "    plt.yticks(fontsize=14)\n",
    "    if '-' in heatmap_data.index:\n",
    "        idx = heatmap_data.index.get_loc('-')\n",
    "        n_rows = len(heatmap_data.index)\n",
    "        n_cols = len(heatmap_data.columns)\n",
    "        \n",
    "        # Draw horizontal lines (top and bottom of the frame)\n",
    "        ax.add_patch(plt.Rectangle((0, idx), n_cols, 1, fill=False, edgecolor='black', lw=4))\n",
    "        \n",
    "        # Draw vertical lines (left and right of the frame)\n",
    "        ax.vlines(x=[0, n_cols], ymin=n_rows-idx-1, ymax=n_rows-idx, colors='black', linewidth=4)\n",
    "        \n",
    "    model_name = model_name.lower()\n",
    "    if 'rawgat_st' in model_name:\n",
    "        model_name = model_name.replace('rawgat_st', 'RawGAT ST')\n",
    "    if 'w2v_aasist' in model_name:\n",
    "        model_name = model_name.replace('w2v_aasist', 'W2V + AASIST')\n",
    "    elif 'mesonet' in model_name:\n",
    "        model_name = model_name.replace('mesonet', 'LFCC + MesoNet')\n",
    "    if 'whisper_aasist' in model_name:\n",
    "        model_name= model_name.replace('whisper_aasist', 'Whisper + AASIST')\n",
    "    cbar = ax.collections[0].colorbar\n",
    "    cbar.ax.tick_params(labelsize=16)\n",
    "    cbar.set_label(metric_label, fontsize=16)\n",
    "    plt.title(f'{metric_label} for {model_name}', fontsize=18)\n",
    "    plt.savefig(f\"../results/plots/{model_name.lower().replace('+', '-')}.png\")\n",
    "    plt.show()"
   ]
  },
  {
   "cell_type": "code",
   "execution_count": null,
   "id": "f8bc4d7d7caf7d9e",
   "metadata": {},
   "outputs": [],
   "source": [
    "for name in df.apply(lambda x: x)['model'].unique():\n",
    "    create_heatmap(df, name)\n"
   ]
  },
  {
   "cell_type": "code",
   "execution_count": null,
   "id": "d9c938ae044423ea",
   "metadata": {},
   "outputs": [],
   "source": [
    "for name in df.apply(lambda x: x)['model'].unique():\n",
    "    create_heatmap(df, name, \"accuracy\", \"Accuracy\")"
   ]
  }
 ],
 "metadata": {
  "kernelspec": {
   "display_name": "Python 3",
   "language": "python",
   "name": "python3"
  },
  "language_info": {
   "codemirror_mode": {
    "name": "ipython",
    "version": 2
   },
   "file_extension": ".py",
   "mimetype": "text/x-python",
   "name": "python",
   "nbconvert_exporter": "python",
   "pygments_lexer": "ipython2",
   "version": "2.7.6"
  }
 },
 "nbformat": 4,
 "nbformat_minor": 5
}
