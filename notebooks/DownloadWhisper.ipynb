{
 "cells": [
  {
   "cell_type": "code",
   "execution_count": 1,
   "metadata": {},
   "outputs": [
    {
     "name": "stdout",
     "output_type": "stream",
     "text": [
      "Downloading 'whisper-large-v2' model!\n",
      "'whisper-large-v2' downloaded!\n",
      "Saved encoder at '../src/models/assets/whisper_large-v2.pth'\n"
     ]
    }
   ],
   "source": [
    "from collections import OrderedDict\n",
    "from pathlib import Path\n",
    "\n",
    "import torch\n",
    "import whisper\n",
    "\n",
    "WHISPER_MODEL_WEIGHTS_PATH = \"../src/models/assets\"\n",
    "\n",
    "models = [\n",
    "    # \"tiny\",\n",
    "    # \"small\",\n",
    "    # \"medium\",\n",
    "    \"large-v2\",\n",
    "]\n",
    "def download_whisper(whisper_size):\n",
    "    model = whisper.load_model(whisper_size)\n",
    "    return model\n",
    "\n",
    "\n",
    "def extract_and_save_encoder(model, save_path):\n",
    "    model_ckpt = OrderedDict()\n",
    "\n",
    "    model_ckpt['model_state_dict'] = OrderedDict()\n",
    "\n",
    "    for key, value in model.encoder.state_dict().items():\n",
    "        model_ckpt['model_state_dict'][f'encoder.{key}'] = value\n",
    "\n",
    "    model_ckpt['dims'] = model.dims\n",
    "    torch.save(model_ckpt, save_path)\n",
    "\n",
    "for m in models:\n",
    "    print(f\"Downloading 'whisper-{m}' model!\")\n",
    "    model = download_whisper(m)\n",
    "    print(f\"'whisper-{m}' downloaded!\")\n",
    "    save_path = Path(WHISPER_MODEL_WEIGHTS_PATH) / f\"whisper_{m}.pth\"\n",
    "    extract_and_save_encoder(model, save_path)\n",
    "    print(f\"Saved encoder at '{save_path}'\")"
   ]
  },
  {
   "cell_type": "code",
   "execution_count": null,
   "metadata": {},
   "outputs": [],
   "source": []
  }
 ],
 "metadata": {
  "kernelspec": {
   "display_name": "hypersound",
   "language": "python",
   "name": "python3"
  },
  "language_info": {
   "codemirror_mode": {
    "name": "ipython",
    "version": 3
   },
   "file_extension": ".py",
   "mimetype": "text/x-python",
   "name": "python",
   "nbconvert_exporter": "python",
   "pygments_lexer": "ipython3",
   "version": "3.9.19"
  }
 },
 "nbformat": 4,
 "nbformat_minor": 2
}
